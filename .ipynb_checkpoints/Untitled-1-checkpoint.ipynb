{
 "cells": [
  {
   "cell_type": "code",
   "execution_count": 1,
   "metadata": {},
   "outputs": [
    {
     "data": {
      "application/vnd.jupyter.widget-view+json": {
       "model_id": "e9540a51d9e1415bb7a8d971bcbb0455",
       "version_major": 2,
       "version_minor": 0
      },
      "text/plain": [
       "VBox(children=(HBox(children=(IntSlider(value=1, description='w11', layout=Layout(width='20%'), max=1, min=-1)…"
      ]
     },
     "metadata": {},
     "output_type": "display_data"
    }
   ],
   "source": [
    "from ipywidgets import interact, interactive, fixed, interact_manual\n",
    "import ipywidgets as widgets\n",
    "import numpy as np\n",
    "import matplotlib.pyplot as plt\n",
    "\n",
    "def cartesian_product(*arrays):\n",
    "    ndim = len(arrays)\n",
    "    return (np.stack(np.meshgrid(*arrays), axis=-1)\n",
    "              .reshape(-1, ndim))\n",
    "\n",
    " #Element-wise ReLU\n",
    "def relu(x):\n",
    "    return np.maximum(np.zeros_like(x), x)\n",
    "\n",
    "def ntwk(x1, x2,\n",
    "        #weights\n",
    "        w11, w12, w13, w14, w21, w22, w23, w24,\n",
    "        u11, u12, u21, u22, u31, u32, u41, u42,\n",
    "        v11, v21,\n",
    "        #biases\n",
    "        a1, a2, a3, a4,\n",
    "        b1, b2,\n",
    "        c1\n",
    "):\n",
    "    w = np.array([[w11, w12, w13, w14],\n",
    "                    [w21, w22, w23, w24]])\n",
    "    u = np.array([[u11, u12],\n",
    "                    [u21, u22],\n",
    "                    [u31, u32],\n",
    "                    [u41, u42]])\n",
    "    v = np.array([[v11],\n",
    "                    [v21]])\n",
    "    a = np.array([a1, a2, a3, a4])\n",
    "    b = np.array([b1, b2]),\n",
    "    c = np.array([c1])\n",
    "    layer1out = relu(np.array([x1, x2]) @ w) + a\n",
    "    layer2out = relu(layer1out @ u) + b\n",
    "    layer3out = (layer2out @ v) + c\n",
    "    return np.ndarray.item(layer3out)\n",
    "\n",
    "vntwk = np.vectorize(ntwk)\n",
    "\n",
    "def plotntwk(\n",
    "        #weights\n",
    "        w11, w12, w13, w14, w21, w22, w23, w24,\n",
    "        u11, u12, u21, u22, u31, u32, u41, u42,\n",
    "        v11, v21,\n",
    "        #biases\n",
    "        a1, a2, a3, a4,\n",
    "        b1, b2,\n",
    "        c1):\n",
    "    x = np.linspace(-1, 1, 8)\n",
    "    y = np.linspace(-1, 1, 12)\n",
    "    X, Y = np.meshgrid(x, y)\n",
    "    data = vntwk(X, Y,\n",
    "                w11, w12, w13, w14, w21, w22, w23, w24,\n",
    "                u11, u12, u21, u22, u31, u32, u41, u42,\n",
    "                v11, v21,\n",
    "                #biases\n",
    "                a1, a2, a3, a4,\n",
    "                b1, b2,\n",
    "                c1)\n",
    "    fig, ax = plt.subplots()\n",
    "    img = ax.imshow(data, origin='lower')\n",
    "    fig.colorbar(img)\n",
    "    plt.show()\n",
    "    plt.close()\n",
    "\n",
    "# inputSliders = []\n",
    "# for i in range(2):\n",
    "#     inputSliders.append(widgets.FloatSlider(min=-1, max=1, step=.01))\n",
    "weightSliders = []\n",
    "for i in range(18):\n",
    "    weightSliders.append(widgets.IntSlider(min=-1, max=1, step=1, value=1, layout=widgets.Layout(width='20%')))\n",
    "biasSliders = []\n",
    "for i in range(7):\n",
    "    biasSliders.append(widgets.FloatSlider(min=-1, max=1, step=.1))\n",
    "\n",
    "widget = widgets.interactive(plotntwk, \n",
    "        #x1=inputSliders[0], x2=inputSliders[1],\n",
    "        #weights\n",
    "        w11=weightSliders[0], w12=weightSliders[1], w13=weightSliders[2], w14=weightSliders[3], w21=weightSliders[4], w22=weightSliders[5], w23=weightSliders[6], w24=weightSliders[7],\n",
    "        u11=weightSliders[8], u12=weightSliders[9], u21=weightSliders[10], u22=weightSliders[11], u31=weightSliders[12], u32=weightSliders[13], u41=weightSliders[14], u42=weightSliders[15],\n",
    "        v11=weightSliders[16], v21=weightSliders[17],\n",
    "        #biases\n",
    "        a1=biasSliders[0], a2=biasSliders[1], a3=biasSliders[2], a4=biasSliders[3],\n",
    "        b1=biasSliders[4], b2=biasSliders[5],\n",
    "        c1=biasSliders[6])\n",
    "layer1weights = widgets.HBox(widget.children[0:8], layout = widgets.Layout(flex_flow='row wrap', border='solid 1px'))\n",
    "layer2weights = widgets.HBox(widget.children[8:16], layout = widgets.Layout(flex_flow='row wrap', border='solid 1px'))\n",
    "layer3weights = widgets.HBox(widget.children[16:18], layout = widgets.Layout(flex_flow='row wrap', border='solid 1px'))\n",
    "layer1bias = widgets.HBox(widget.children[18:22], layout = widgets.Layout(flex_flow='row wrap', border='solid 1px'))\n",
    "layer2bias = widgets.HBox(widget.children[22:24], layout = widgets.Layout(flex_flow='row wrap', border='solid 1px'))\n",
    "layer3bias = widgets.HBox(widget.children[24:25], layout = widgets.Layout(flex_flow='row wrap', border='solid 1px'))\n",
    "output = widget.children[-1]\n",
    "widgets.VBox([layer1weights, layer2weights, layer3weights, layer1bias, layer2bias, layer3bias, output])"
   ]
  },
  {
   "cell_type": "code",
   "execution_count": null,
   "metadata": {},
   "outputs": [],
   "source": []
  }
 ],
 "metadata": {
  "interpreter": {
   "hash": "b582def398d7cc9abacc15796be700a0f37793e4690fd4f2b8cfe2f95b3e7287"
  },
  "kernelspec": {
   "display_name": "Python 3",
   "language": "python",
   "name": "python3"
  },
  "language_info": {
   "codemirror_mode": {
    "name": "ipython",
    "version": 3
   },
   "file_extension": ".py",
   "mimetype": "text/x-python",
   "name": "python",
   "nbconvert_exporter": "python",
   "pygments_lexer": "ipython3",
   "version": "3.7.4"
  }
 },
 "nbformat": 4,
 "nbformat_minor": 2
}
